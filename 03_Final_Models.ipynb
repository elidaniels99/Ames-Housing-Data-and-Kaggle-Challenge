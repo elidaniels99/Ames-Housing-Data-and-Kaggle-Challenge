{
 "cells": [
  {
   "cell_type": "code",
   "execution_count": 1,
   "id": "b73aeb24-5803-44e7-83b9-8a761e53626a",
   "metadata": {
    "tags": []
   },
   "outputs": [],
   "source": [
    "#Imports\n",
    "import pandas as pd\n",
    "import numpy as np\n",
    "import matplotlib.pyplot as plt\n",
    "import seaborn as sns\n",
    "\n",
    "# new ones!\n",
    "from sklearn.model_selection import train_test_split\n",
    "from sklearn.linear_model import LinearRegression\n",
    "from sklearn.impute import SimpleImputer\n",
    "from sklearn.model_selection import cross_val_score\n",
    "from sklearn.metrics import mean_squared_error, r2_score"
   ]
  },
  {
   "cell_type": "code",
   "execution_count": 2,
   "id": "db448d81-6f55-4459-9690-b09d57e9a9aa",
   "metadata": {
    "tags": []
   },
   "outputs": [],
   "source": [
    "#Read Data \n",
    "ames_train = pd.read_csv('datasets/train.csv')\n",
    "ames_test = pd.read_csv('datasets/test.csv')"
   ]
  },
  {
   "cell_type": "code",
   "execution_count": 3,
   "id": "5f849681-2ebe-4f10-94b5-067d7b4b110b",
   "metadata": {
    "tags": []
   },
   "outputs": [],
   "source": [
    "ames_train['Total_Full_Bath'] = ames_train['Total_Full_Bath'].fillna(0)"
   ]
  },
  {
   "cell_type": "code",
   "execution_count": 4,
   "id": "b80b2de0-257c-45eb-8f86-6a23dc85ed83",
   "metadata": {
    "tags": []
   },
   "outputs": [],
   "source": [
    "final_features = ['Overall Qual', 'Square Footage', 'Total_Full_Bath', 'Total Bedrooms', 'Garage Area', 'Garage Cars', 'Year Remod/Add']\n",
    "\n",
    "X= ames_train[final_features]\n",
    "y= ames_train['SalePrice']"
   ]
  },
  {
   "cell_type": "code",
   "execution_count": 5,
   "id": "922db30c-4f0a-4fa3-9fab-f5b3ba8382f8",
   "metadata": {
    "tags": []
   },
   "outputs": [],
   "source": [
    "X_train, X_test, y_train, y_test = train_test_split(X, y,random_state=22)"
   ]
  },
  {
   "cell_type": "code",
   "execution_count": 6,
   "id": "3143a5ea-4327-4818-b3fb-17170a4b708c",
   "metadata": {
    "tags": []
   },
   "outputs": [
    {
     "data": {
      "text/html": [
       "<style>#sk-container-id-1 {color: black;background-color: white;}#sk-container-id-1 pre{padding: 0;}#sk-container-id-1 div.sk-toggleable {background-color: white;}#sk-container-id-1 label.sk-toggleable__label {cursor: pointer;display: block;width: 100%;margin-bottom: 0;padding: 0.3em;box-sizing: border-box;text-align: center;}#sk-container-id-1 label.sk-toggleable__label-arrow:before {content: \"▸\";float: left;margin-right: 0.25em;color: #696969;}#sk-container-id-1 label.sk-toggleable__label-arrow:hover:before {color: black;}#sk-container-id-1 div.sk-estimator:hover label.sk-toggleable__label-arrow:before {color: black;}#sk-container-id-1 div.sk-toggleable__content {max-height: 0;max-width: 0;overflow: hidden;text-align: left;background-color: #f0f8ff;}#sk-container-id-1 div.sk-toggleable__content pre {margin: 0.2em;color: black;border-radius: 0.25em;background-color: #f0f8ff;}#sk-container-id-1 input.sk-toggleable__control:checked~div.sk-toggleable__content {max-height: 200px;max-width: 100%;overflow: auto;}#sk-container-id-1 input.sk-toggleable__control:checked~label.sk-toggleable__label-arrow:before {content: \"▾\";}#sk-container-id-1 div.sk-estimator input.sk-toggleable__control:checked~label.sk-toggleable__label {background-color: #d4ebff;}#sk-container-id-1 div.sk-label input.sk-toggleable__control:checked~label.sk-toggleable__label {background-color: #d4ebff;}#sk-container-id-1 input.sk-hidden--visually {border: 0;clip: rect(1px 1px 1px 1px);clip: rect(1px, 1px, 1px, 1px);height: 1px;margin: -1px;overflow: hidden;padding: 0;position: absolute;width: 1px;}#sk-container-id-1 div.sk-estimator {font-family: monospace;background-color: #f0f8ff;border: 1px dotted black;border-radius: 0.25em;box-sizing: border-box;margin-bottom: 0.5em;}#sk-container-id-1 div.sk-estimator:hover {background-color: #d4ebff;}#sk-container-id-1 div.sk-parallel-item::after {content: \"\";width: 100%;border-bottom: 1px solid gray;flex-grow: 1;}#sk-container-id-1 div.sk-label:hover label.sk-toggleable__label {background-color: #d4ebff;}#sk-container-id-1 div.sk-serial::before {content: \"\";position: absolute;border-left: 1px solid gray;box-sizing: border-box;top: 0;bottom: 0;left: 50%;z-index: 0;}#sk-container-id-1 div.sk-serial {display: flex;flex-direction: column;align-items: center;background-color: white;padding-right: 0.2em;padding-left: 0.2em;position: relative;}#sk-container-id-1 div.sk-item {position: relative;z-index: 1;}#sk-container-id-1 div.sk-parallel {display: flex;align-items: stretch;justify-content: center;background-color: white;position: relative;}#sk-container-id-1 div.sk-item::before, #sk-container-id-1 div.sk-parallel-item::before {content: \"\";position: absolute;border-left: 1px solid gray;box-sizing: border-box;top: 0;bottom: 0;left: 50%;z-index: -1;}#sk-container-id-1 div.sk-parallel-item {display: flex;flex-direction: column;z-index: 1;position: relative;background-color: white;}#sk-container-id-1 div.sk-parallel-item:first-child::after {align-self: flex-end;width: 50%;}#sk-container-id-1 div.sk-parallel-item:last-child::after {align-self: flex-start;width: 50%;}#sk-container-id-1 div.sk-parallel-item:only-child::after {width: 0;}#sk-container-id-1 div.sk-dashed-wrapped {border: 1px dashed gray;margin: 0 0.4em 0.5em 0.4em;box-sizing: border-box;padding-bottom: 0.4em;background-color: white;}#sk-container-id-1 div.sk-label label {font-family: monospace;font-weight: bold;display: inline-block;line-height: 1.2em;}#sk-container-id-1 div.sk-label-container {text-align: center;}#sk-container-id-1 div.sk-container {/* jupyter's `normalize.less` sets `[hidden] { display: none; }` but bootstrap.min.css set `[hidden] { display: none !important; }` so we also need the `!important` here to be able to override the default hidden behavior on the sphinx rendered scikit-learn.org. See: https://github.com/scikit-learn/scikit-learn/issues/21755 */display: inline-block !important;position: relative;}#sk-container-id-1 div.sk-text-repr-fallback {display: none;}</style><div id=\"sk-container-id-1\" class=\"sk-top-container\"><div class=\"sk-text-repr-fallback\"><pre>LinearRegression()</pre><b>In a Jupyter environment, please rerun this cell to show the HTML representation or trust the notebook. <br />On GitHub, the HTML representation is unable to render, please try loading this page with nbviewer.org.</b></div><div class=\"sk-container\" hidden><div class=\"sk-item\"><div class=\"sk-estimator sk-toggleable\"><input class=\"sk-toggleable__control sk-hidden--visually\" id=\"sk-estimator-id-1\" type=\"checkbox\" checked><label for=\"sk-estimator-id-1\" class=\"sk-toggleable__label sk-toggleable__label-arrow\">LinearRegression</label><div class=\"sk-toggleable__content\"><pre>LinearRegression()</pre></div></div></div></div></div>"
      ],
      "text/plain": [
       "LinearRegression()"
      ]
     },
     "execution_count": 6,
     "metadata": {},
     "output_type": "execute_result"
    }
   ],
   "source": [
    "lr = LinearRegression()\n",
    "lr.fit(X_train, y_train)"
   ]
  },
  {
   "cell_type": "code",
   "execution_count": 7,
   "id": "5ef6ace5-902c-4f5d-b94f-c182588ba142",
   "metadata": {
    "tags": []
   },
   "outputs": [
    {
     "name": "stdout",
     "output_type": "stream",
     "text": [
      "0.7675621192067889\n"
     ]
    },
    {
     "data": {
      "text/plain": [
       "(0.7773766131406701, 0.8210629657757774)"
      ]
     },
     "execution_count": 7,
     "metadata": {},
     "output_type": "execute_result"
    }
   ],
   "source": [
    "print(cross_val_score(lr, X_train, y_train).mean())\n",
    "lr.score(X_train, y_train), lr.score(X_test, y_test)"
   ]
  },
  {
   "cell_type": "code",
   "execution_count": 10,
   "id": "c34a7a23-4ecd-4678-8de3-be619cae1b9f",
   "metadata": {
    "tags": []
   },
   "outputs": [
    {
     "name": "stdout",
     "output_type": "stream",
     "text": [
      "Training R-Squared Score: 0.7815931137320951\n",
      "Testing R-Squared Score: 0.8128962061828148\n"
     ]
    }
   ],
   "source": [
    "# Train score\n",
    "print(f'Training R-Squared Score: {lr.score(X_train, y_train)}')\n",
    "# Test score\n",
    "print(f'Testing R-Squared Score: {lr.score(X_test, y_test)}')"
   ]
  },
  {
   "cell_type": "markdown",
   "id": "24083383-8dc9-44eb-ba10-757436a0b161",
   "metadata": {},
   "source": [
    "#### 78.16% of the variability in the target variable can be attributed to the relationships captured by the model during training. The testing R-squared score being slightly higher than the training R-squared score suggests that the model is likely to be performing well. Although this also indicates there are other variables I am not accounting for in my model"
   ]
  },
  {
   "cell_type": "code",
   "execution_count": 5,
   "id": "8f5e47ef-6db4-4372-b751-8c379e530553",
   "metadata": {
    "tags": []
   },
   "outputs": [
    {
     "name": "stdout",
     "output_type": "stream",
     "text": [
      "Training Set Metrics:\n",
      "  MSE: 1386471705.8679996\n",
      "  RMSE: 37235.355589385734\n",
      "  R-squared: 0.7815931137320951\n",
      "Testing Set Metrics:\n",
      "  MSE: 1122721165.3352263\n",
      "  RMSE: 33507.03158047914\n",
      "  R-squared: 0.8128962061828148\n"
     ]
    },
    {
     "data": {
      "image/png": "[encoded data removed]",
      "text/plain": [
       "<Figure size 800x600 with 1 Axes>"
      ]
     },
     "metadata": {},
     "output_type": "display_data"
    },
    {
     "name": "stdout",
     "output_type": "stream",
     "text": [
      "Feature Importance:\n",
      "           Feature   Coefficient\n",
      "0     Overall Qual  20564.324517\n",
      "1   Square Footage     31.942620\n",
      "2  Total_Full_Bath   9804.217665\n",
      "3   Total Bedrooms    242.549051\n",
      "4      Garage Area     37.892559\n",
      "5      Garage Cars   6763.076644\n",
      "6   Year Remod/Add    315.652103\n",
      "Cross-Validation Scores:\n",
      "[0.80612476 0.82295227 0.70682087 0.83558903 0.74555007]\n"
     ]
    }
   ],
   "source": [
    "final_features = ['Overall Qual', 'Square Footage', 'Total_Full_Bath', 'Total Bedrooms', 'Garage Area', 'Garage Cars', 'Year Remod/Add']\n",
    "\n",
    "# Select the features and target variable\n",
    "X = ames_train[final_features]\n",
    "y = ames_train['SalePrice']\n",
    "\n",
    "# Split the data into training and testing sets\n",
    "X_train, X_test, y_train, y_test = train_test_split(X, y, test_size=0.2, random_state=42)\n",
    "\n",
    "# Train a linear regression model on the training set\n",
    "lr = LinearRegression()\n",
    "lr.fit(X_train, y_train)\n",
    "\n",
    "# Perform predictions on the training set\n",
    "y_pred_train = lr.predict(X_train)\n",
    "\n",
    "# Perform predictions on the testing set\n",
    "y_pred_test = lr.predict(X_test)\n",
    "\n",
    "# Evaluation metrics\n",
    "train_mse = mean_squared_error(y_train, y_pred_train)\n",
    "train_rmse = train_mse ** 0.5\n",
    "train_r2 = r2_score(y_train, y_pred_train)\n",
    "\n",
    "test_mse = mean_squared_error(y_test, y_pred_test)\n",
    "test_rmse = test_mse ** 0.5\n",
    "test_r2 = r2_score(y_test, y_pred_test)\n",
    "\n",
    "print(\"Training Set Metrics:\")\n",
    "print(\"  MSE:\", train_mse)\n",
    "print(\"  RMSE:\", train_rmse)\n",
    "print(\"  R-squared:\", train_r2)\n",
    "\n",
    "print(\"Testing Set Metrics:\")\n",
    "print(\"  MSE:\", test_mse)\n",
    "print(\"  RMSE:\", test_rmse)\n",
    "print(\"  R-squared:\", test_r2)\n",
    "\n",
    "# Residual analysis\n",
    "train_residuals = y_train - y_pred_train\n",
    "test_residuals = y_test - y_pred_test\n",
    "\n",
    "plt.figure(figsize=(8, 6))\n",
    "plt.scatter(y_pred_train, train_residuals, c='blue', label='Training Set')\n",
    "plt.scatter(y_pred_test, test_residuals, c='green', label='Testing Set')\n",
    "plt.axhline(y=0, color='red', linestyle='--')\n",
    "plt.xlabel('Predicted SalePrice')\n",
    "plt.ylabel('Residuals')\n",
    "plt.title('Residuals vs. Predicted SalePrice')\n",
    "plt.legend()\n",
    "plt.show()\n",
    "\n",
    "# Feature importance\n",
    "feature_importance = pd.DataFrame({'Feature': final_features, 'Coefficient': lr.coef_})\n",
    "print(\"Feature Importance:\")\n",
    "print(feature_importance)\n",
    "\n",
    "# Cross-validation\n",
    "from sklearn.model_selection import cross_val_score\n",
    "\n",
    "cv_scores = cross_val_score(lr, X, y, cv=5)\n",
    "print(\"Cross-Validation Scores:\")\n",
    "print(cv_scores)"
   ]
  },
  {
   "cell_type": "markdown",
   "id": "881af44c-7fbe-43ec-a648-a827e5439955",
   "metadata": {},
   "source": [
    "Overall Qual stands out. For each unit increase in the overall quality rating of the house  the model predicts an increase of approximately $20,564.32 in the house price, all else being equal. Although Overall Quality can have a multitude of factors and is amiguous. Looking further it would be great to know the criteria that determiines an apprasial in Ames, Iowa which would be congruent with my problem statement of determining the best course of investment"
   ]
  },
  {
   "cell_type": "code",
   "execution_count": 27,
   "id": "2fac7b5f-63a2-4715-b2ae-145135c82c3e",
   "metadata": {
    "tags": []
   },
   "outputs": [
    {
     "data": {
      "text/html": [
       "<style>#sk-container-id-4 {color: black;background-color: white;}#sk-container-id-4 pre{padding: 0;}#sk-container-id-4 div.sk-toggleable {background-color: white;}#sk-container-id-4 label.sk-toggleable__label {cursor: pointer;display: block;width: 100%;margin-bottom: 0;padding: 0.3em;box-sizing: border-box;text-align: center;}#sk-container-id-4 label.sk-toggleable__label-arrow:before {content: \"▸\";float: left;margin-right: 0.25em;color: #696969;}#sk-container-id-4 label.sk-toggleable__label-arrow:hover:before {color: black;}#sk-container-id-4 div.sk-estimator:hover label.sk-toggleable__label-arrow:before {color: black;}#sk-container-id-4 div.sk-toggleable__content {max-height: 0;max-width: 0;overflow: hidden;text-align: left;background-color: #f0f8ff;}#sk-container-id-4 div.sk-toggleable__content pre {margin: 0.2em;color: black;border-radius: 0.25em;background-color: #f0f8ff;}#sk-container-id-4 input.sk-toggleable__control:checked~div.sk-toggleable__content {max-height: 200px;max-width: 100%;overflow: auto;}#sk-container-id-4 input.sk-toggleable__control:checked~label.sk-toggleable__label-arrow:before {content: \"▾\";}#sk-container-id-4 div.sk-estimator input.sk-toggleable__control:checked~label.sk-toggleable__label {background-color: #d4ebff;}#sk-container-id-4 div.sk-label input.sk-toggleable__control:checked~label.sk-toggleable__label {background-color: #d4ebff;}#sk-container-id-4 input.sk-hidden--visually {border: 0;clip: rect(1px 1px 1px 1px);clip: rect(1px, 1px, 1px, 1px);height: 1px;margin: -1px;overflow: hidden;padding: 0;position: absolute;width: 1px;}#sk-container-id-4 div.sk-estimator {font-family: monospace;background-color: #f0f8ff;border: 1px dotted black;border-radius: 0.25em;box-sizing: border-box;margin-bottom: 0.5em;}#sk-container-id-4 div.sk-estimator:hover {background-color: #d4ebff;}#sk-container-id-4 div.sk-parallel-item::after {content: \"\";width: 100%;border-bottom: 1px solid gray;flex-grow: 1;}#sk-container-id-4 div.sk-label:hover label.sk-toggleable__label {background-color: #d4ebff;}#sk-container-id-4 div.sk-serial::before {content: \"\";position: absolute;border-left: 1px solid gray;box-sizing: border-box;top: 0;bottom: 0;left: 50%;z-index: 0;}#sk-container-id-4 div.sk-serial {display: flex;flex-direction: column;align-items: center;background-color: white;padding-right: 0.2em;padding-left: 0.2em;position: relative;}#sk-container-id-4 div.sk-item {position: relative;z-index: 1;}#sk-container-id-4 div.sk-parallel {display: flex;align-items: stretch;justify-content: center;background-color: white;position: relative;}#sk-container-id-4 div.sk-item::before, #sk-container-id-4 div.sk-parallel-item::before {content: \"\";position: absolute;border-left: 1px solid gray;box-sizing: border-box;top: 0;bottom: 0;left: 50%;z-index: -1;}#sk-container-id-4 div.sk-parallel-item {display: flex;flex-direction: column;z-index: 1;position: relative;background-color: white;}#sk-container-id-4 div.sk-parallel-item:first-child::after {align-self: flex-end;width: 50%;}#sk-container-id-4 div.sk-parallel-item:last-child::after {align-self: flex-start;width: 50%;}#sk-container-id-4 div.sk-parallel-item:only-child::after {width: 0;}#sk-container-id-4 div.sk-dashed-wrapped {border: 1px dashed gray;margin: 0 0.4em 0.5em 0.4em;box-sizing: border-box;padding-bottom: 0.4em;background-color: white;}#sk-container-id-4 div.sk-label label {font-family: monospace;font-weight: bold;display: inline-block;line-height: 1.2em;}#sk-container-id-4 div.sk-label-container {text-align: center;}#sk-container-id-4 div.sk-container {/* jupyter's `normalize.less` sets `[hidden] { display: none; }` but bootstrap.min.css set `[hidden] { display: none !important; }` so we also need the `!important` here to be able to override the default hidden behavior on the sphinx rendered scikit-learn.org. See: https://github.com/scikit-learn/scikit-learn/issues/21755 */display: inline-block !important;position: relative;}#sk-container-id-4 div.sk-text-repr-fallback {display: none;}</style><div id=\"sk-container-id-4\" class=\"sk-top-container\"><div class=\"sk-text-repr-fallback\"><pre>LinearRegression()</pre><b>In a Jupyter environment, please rerun this cell to show the HTML representation or trust the notebook. <br />On GitHub, the HTML representation is unable to render, please try loading this page with nbviewer.org.</b></div><div class=\"sk-container\" hidden><div class=\"sk-item\"><div class=\"sk-estimator sk-toggleable\"><input class=\"sk-toggleable__control sk-hidden--visually\" id=\"sk-estimator-id-4\" type=\"checkbox\" checked><label for=\"sk-estimator-id-4\" class=\"sk-toggleable__label sk-toggleable__label-arrow\">LinearRegression</label><div class=\"sk-toggleable__content\"><pre>LinearRegression()</pre></div></div></div></div></div>"
      ],
      "text/plain": [
       "LinearRegression()"
      ]
     },
     "execution_count": 27,
     "metadata": {},
     "output_type": "execute_result"
    }
   ],
   "source": [
    "final_features = ['Overall Qual', 'Square Footage', 'Total_Full_Bath', 'Total Bedrooms', 'Garage Area', 'Garage Cars', 'Year Remod/Add']\n",
    "\n",
    "\n",
    "X = ames_train[final_features]\n",
    "y = ames_train['SalePrice']\n",
    "\n",
    "\n",
    "X_train, X_test, y_train, y_test = train_test_split(X, y, random_state=22)\n",
    "\n",
    "\n",
    "lr = LinearRegression()\n",
    "lr.fit(X_train, y_train)\n",
    "\n"
   ]
  },
  {
   "cell_type": "code",
   "execution_count": 30,
   "id": "43aedd69-8b91-4d40-9b62-90627e885af0",
   "metadata": {
    "tags": []
   },
   "outputs": [],
   "source": [
    "ames_test['Square Footage'] = ames_test['1st Flr SF'] + ames_test['2nd Flr SF'] + ames_test['Low Qual Fin SF'] + ames_test['Total Bsmt SF']\n",
    "ames_test['Total_Full_Bath'] = ames_test['Full Bath'] + ames_test['Bsmt Full Bath'] + ames_test['Half Bath']\n",
    "ames_test['Total Bedrooms'] = ames_test['Bedroom AbvGr'] + ames_test['TotRms AbvGrd']"
   ]
  },
  {
   "cell_type": "code",
   "execution_count": 31,
   "id": "69771179-8724-4229-bba7-5e5e194ec69c",
   "metadata": {
    "tags": []
   },
   "outputs": [],
   "source": [
    "pred= lr.predict(ames_test[final_features])"
   ]
  },
  {
   "cell_type": "code",
   "execution_count": 34,
   "id": "803806be-5ef0-494f-b540-52dd520e0e10",
   "metadata": {
    "tags": []
   },
   "outputs": [],
   "source": [
    "ames_test['SalePrice']= pred"
   ]
  },
  {
   "cell_type": "code",
   "execution_count": 37,
   "id": "6236b3a9-c013-45b9-8b93-ec01fa1d7319",
   "metadata": {
    "tags": []
   },
   "outputs": [],
   "source": [
    "ames_test[['Id', 'SalePrice']].to_csv('results_test.csv', index= False)"
   ]
  },
  {
   "cell_type": "markdown",
   "id": "6180c2e5-de8a-4bbd-9f97-a32611aa9b40",
   "metadata": {
    "tags": []
   },
   "source": [
    "## Conclusions"
   ]
  },
  {
   "cell_type": "markdown",
   "id": "efbe0554-31c3-4763-9937-111e11e252ef",
   "metadata": {
    "tags": []
   },
   "source": [
    "#### In conclusion, my analysis as the Data Scientist for the Ames, Iowa real estate firm has identified key indicators for making strategic investments in the market. Factors such as square footage, garage area, year of home remodeling, and the number of bedrooms and bathrooms, along with specific neighborhoods, have shown significant correlations with sale prices. Conversely, certain features such as pool area, deck square footage, and second-floor space demonstrated weak correlations. We can use this data to find possible flip opporuntities specifically looking at year home remodling, adding an additional bedroom, or deciding on the best neighboorhood \n"
   ]
  },
  {
   "cell_type": "markdown",
   "id": "c40393af-8065-47ad-9b31-dbad1a11eee5",
   "metadata": {},
   "source": [
    "#### While these findings offer valuable insights into our investment decisions, it is essential to consider other relevant factors to paint a complete and well-informed picture of the market landscape"
   ]
  },
  {
   "cell_type": "code",
   "execution_count": null,
   "id": "f76baead-664f-4c99-9229-2bd2abf4385f",
   "metadata": {},
   "outputs": [],
   "source": []
  }
 ],
 "metadata": {
  "kernelspec": {
   "display_name": "Python 3 (ipykernel)",
   "language": "python",
   "name": "python3"
  },
  "language_info": {
   "codemirror_mode": {
    "name": "ipython",
    "version": 3
   },
   "file_extension": ".py",
   "mimetype": "text/x-python",
   "name": "python",
   "nbconvert_exporter": "python",
   "pygments_lexer": "ipython3",
   "version": "3.10.11"
  }
 },
 "nbformat": 4,
 "nbformat_minor": 5
}
